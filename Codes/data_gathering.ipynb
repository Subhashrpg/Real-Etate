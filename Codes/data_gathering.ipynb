{
 "cells": [
  {
   "cell_type": "code",
   "execution_count": 1,
   "id": "fcc48563",
   "metadata": {},
   "outputs": [],
   "source": [
    "# All the imports\n",
    "import os\n",
    "from pathlib import Path\n",
    "import requests\n",
    "from bs4 import BeautifulSoup\n",
    "import pandas as pd\n",
    "import numpy as np\n",
    "import time"
   ]
  },
  {
   "cell_type": "code",
   "execution_count": 2,
   "id": "681d8229",
   "metadata": {},
   "outputs": [],
   "source": [
    "city = \"Dehradun\"\n",
    "headers = {\n",
    "    'authority': 'www.99acres.com',\n",
    "    'accept': 'text/html,application/xhtml+xml,application/xml;q=0.9,image/avif,image/webp,image/apng,*/*;q=0.8,application/signed-exchange;v=b3;q=0.7',\n",
    "    'accept-language': 'en-US,en;q=0.9',\n",
    "    'cache-control': 'no-cache',\n",
    "    'dnt': '1',\n",
    "    'pragma': 'no-cache',\n",
    "    'referer': f'https://www.99acres.com/flats-in-{city}-ffid-page',\n",
    "    'sec-ch-ua': '\"Chromium\";v=\"107\", \"Not;A=Brand\";v=\"8\"',\n",
    "    'sec-ch-ua-mobile': '?0',\n",
    "    'sec-ch-ua-platform': '\"macOS\"',\n",
    "    'sec-fetch-dest': 'document',\n",
    "    'sec-fetch-mode': 'navigate',\n",
    "    'sec-fetch-site': 'same-origin',\n",
    "    'sec-fetch-user': '?1',\n",
    "    'upgrade-insecure-requests': '1',\n",
    "    'user-agent': 'Mozilla/5.0 (Macintosh; Intel Mac OS X 10_15_7) AppleWebKit/527.36 (KHTML, like Gecko) Chrome/107.0.0.0 Safari/537.36',\n",
    "}"
   ]
  },
  {
   "cell_type": "code",
   "execution_count": 3,
   "id": "d4411e7d",
   "metadata": {},
   "outputs": [],
   "source": [
    "project_directory = os.getcwd()\n",
    "data_directoriest = [\"datasets\",f\"Datasets\\{city}\",f\"Datasets\\{city}\\Flats\", f\"Datasets\\{city}\\Sociaties\",\n",
    "                     f\"datasets\\{city}\\Residential\", f\"datasets\\{city}\\Independent House\"]\n",
    "\n",
    "def directory_setup(directory:str,subdirectory:list|str) -> str: \n",
    "    \n",
    "    if isinstance(subdirectory,str):\n",
    "        subdirectory = [subdirectory]\n",
    "    print(\"================================================\")  \n",
    "    for dirs in subdirectory:\n",
    "        dir_path = os.path.join(directory,dirs)\n",
    "        if not os.path.exists(dir_path):\n",
    "            os.makedirs(dir_path)\n",
    "            print(f\"Created directory: {dir_path}\")\n",
    "        else:\n",
    "            print(\"Directory already exists\")\n",
    "    print(\"================================================\")"
   ]
  },
  {
   "cell_type": "code",
   "execution_count": 4,
   "id": "a9b2944e",
   "metadata": {},
   "outputs": [
    {
     "name": "stdout",
     "output_type": "stream",
     "text": [
      "================================================\n",
      "Directory already exists\n",
      "Directory already exists\n",
      "Directory already exists\n",
      "Directory already exists\n",
      "Directory already exists\n",
      "Directory already exists\n",
      "================================================\n"
     ]
    }
   ],
   "source": [
    "directory_setup(project_directory,data_directoriest)"
   ]
  },
  {
   "cell_type": "code",
   "execution_count": 5,
   "id": "756bdfcf",
   "metadata": {},
   "outputs": [],
   "source": [
    "page_number = 1\n",
    "url = f\"https://www.99acres.com/flats-in-{city}-ffid-page-{page_number}\""
   ]
  },
  {
   "cell_type": "code",
   "execution_count": null,
   "id": "a8d686d3",
   "metadata": {},
   "outputs": [],
   "source": [
    "content = requests.get(url,headers=headers)\n",
    "soup = BeautifulSoup(content.content,\"html.parser\")"
   ]
  },
  {
   "cell_type": "code",
   "execution_count": null,
   "id": "442cb244",
   "metadata": {},
   "outputs": [],
   "source": [
    "print(\"hello\")"
   ]
  },
  {
   "cell_type": "code",
   "execution_count": null,
   "id": "67fe8a42",
   "metadata": {},
   "outputs": [],
   "source": []
  }
 ],
 "metadata": {
  "kernelspec": {
   "display_name": "Python 3 (ipykernel)",
   "language": "python",
   "name": "python3"
  },
  "language_info": {
   "codemirror_mode": {
    "name": "ipython",
    "version": 3
   },
   "file_extension": ".py",
   "mimetype": "text/x-python",
   "name": "python",
   "nbconvert_exporter": "python",
   "pygments_lexer": "ipython3",
   "version": "3.11.5"
  }
 },
 "nbformat": 4,
 "nbformat_minor": 5
}
